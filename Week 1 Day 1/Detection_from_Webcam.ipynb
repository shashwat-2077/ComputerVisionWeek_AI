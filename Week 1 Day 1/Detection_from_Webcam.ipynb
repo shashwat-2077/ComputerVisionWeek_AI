{
  "nbformat": 4,
  "nbformat_minor": 0,
  "metadata": {
    "colab": {
      "name": "Detection from Webcam.ipynb",
      "provenance": [],
      "authorship_tag": "ABX9TyNJyjHpOKKKsxuYWzZgjk8r",
      "include_colab_link": true
    },
    "kernelspec": {
      "name": "python3",
      "display_name": "Python 3"
    },
    "language_info": {
      "name": "python"
    }
  },
  "cells": [
    {
      "cell_type": "markdown",
      "metadata": {
        "id": "view-in-github",
        "colab_type": "text"
      },
      "source": [
        "<a href=\"https://colab.research.google.com/github/shashwat-2077/ComputerVisionWeek_AI/blob/main/Detection_from_Webcam.ipynb\" target=\"_parent\"><img src=\"https://colab.research.google.com/assets/colab-badge.svg\" alt=\"Open In Colab\"/></a>"
      ]
    },
    {
      "cell_type": "code",
      "metadata": {
        "colab": {
          "base_uri": "https://localhost:8080/"
        },
        "id": "OiujMWlA21OA",
        "outputId": "96dda56a-51ed-4a47-ab17-e225148e7daa"
      },
      "source": [
        "from google.colab import drive\n",
        "drive.mount('/content/drive')"
      ],
      "execution_count": 6,
      "outputs": [
        {
          "output_type": "stream",
          "text": [
            "Drive already mounted at /content/drive; to attempt to forcibly remount, call drive.mount(\"/content/drive\", force_remount=True).\n"
          ],
          "name": "stdout"
        }
      ]
    },
    {
      "cell_type": "code",
      "metadata": {
        "id": "B7GEaBapTqK7",
        "colab": {
          "base_uri": "https://localhost:8080/",
          "height": 232
        },
        "outputId": "be7f5de2-257f-41cf-bb00-b6640d689c3e"
      },
      "source": [
        "import cv2\n",
        "\n",
        "face_cascade = cv2.CascadeClassifier('/content/drive/MyDrive/Code/CV Week/Week 2 Day 2/haarcascade_frontalface_default.xml')\n",
        "eye_cascade = cv2.CascadeClassifier('/content/drive/MyDrive/Code/CV Week/Week 2 Day 2/haarcascade_eye_tree_eyeglasses.xml')\n",
        "\n",
        "cap = cv2.VideoCapture(0)\n",
        "while True:\n",
        "    success, img = cap.read(0)\n",
        "    gray = cv2.cvtColor(img, cv2.COLOR_BGR2GRAY)\n",
        "    faces = face_cascade.detectMultiScale(gray, 1.1, 4)\n",
        "\n",
        "    for (x, y , w ,h) in faces:\n",
        "        cv2.rectangle(img, (x,y), (x+w, y+h), (255, 0 , 0), 3)\n",
        "        roi_gray = gray[y:y+h, x:x+w]\n",
        "        roi_color = img[y:y+h, x:x+w]\n",
        "        eyes = eye_cascade.detectMultiScale(roi_gray)\n",
        "        for (ex, ey ,ew, eh) in eyes:\n",
        "            cv2.rectangle(roi_color, (ex,ey), (ex+ew, ey+eh), (0, 0, 255), 5)\n",
        "\n",
        "    cv2.imshow('img', img)\n",
        "    if cv2.waitKey(1) & 0xFF == ord('q'):\n",
        "        break\n",
        "\n",
        "cap.release()"
      ],
      "execution_count": 5,
      "outputs": [
        {
          "output_type": "error",
          "ename": "error",
          "evalue": "ignored",
          "traceback": [
            "\u001b[0;31m---------------------------------------------------------------------------\u001b[0m",
            "\u001b[0;31merror\u001b[0m                                     Traceback (most recent call last)",
            "\u001b[0;32m<ipython-input-5-a80250b362e1>\u001b[0m in \u001b[0;36m<module>\u001b[0;34m()\u001b[0m\n\u001b[1;32m      7\u001b[0m \u001b[0;32mwhile\u001b[0m \u001b[0;32mTrue\u001b[0m\u001b[0;34m:\u001b[0m\u001b[0;34m\u001b[0m\u001b[0;34m\u001b[0m\u001b[0m\n\u001b[1;32m      8\u001b[0m     \u001b[0msuccess\u001b[0m\u001b[0;34m,\u001b[0m \u001b[0mimg\u001b[0m \u001b[0;34m=\u001b[0m \u001b[0mcap\u001b[0m\u001b[0;34m.\u001b[0m\u001b[0mread\u001b[0m\u001b[0;34m(\u001b[0m\u001b[0;36m0\u001b[0m\u001b[0;34m)\u001b[0m\u001b[0;34m\u001b[0m\u001b[0;34m\u001b[0m\u001b[0m\n\u001b[0;32m----> 9\u001b[0;31m     \u001b[0mgray\u001b[0m \u001b[0;34m=\u001b[0m \u001b[0mcv2\u001b[0m\u001b[0;34m.\u001b[0m\u001b[0mcvtColor\u001b[0m\u001b[0;34m(\u001b[0m\u001b[0mimg\u001b[0m\u001b[0;34m,\u001b[0m \u001b[0mcv2\u001b[0m\u001b[0;34m.\u001b[0m\u001b[0mCOLOR_BGR2GRAY\u001b[0m\u001b[0;34m)\u001b[0m\u001b[0;34m\u001b[0m\u001b[0;34m\u001b[0m\u001b[0m\n\u001b[0m\u001b[1;32m     10\u001b[0m     \u001b[0mfaces\u001b[0m \u001b[0;34m=\u001b[0m \u001b[0mface_cascade\u001b[0m\u001b[0;34m.\u001b[0m\u001b[0mdetectMultiScale\u001b[0m\u001b[0;34m(\u001b[0m\u001b[0mgray\u001b[0m\u001b[0;34m,\u001b[0m \u001b[0;36m1.1\u001b[0m\u001b[0;34m,\u001b[0m \u001b[0;36m4\u001b[0m\u001b[0;34m)\u001b[0m\u001b[0;34m\u001b[0m\u001b[0;34m\u001b[0m\u001b[0m\n\u001b[1;32m     11\u001b[0m \u001b[0;34m\u001b[0m\u001b[0m\n",
            "\u001b[0;31merror\u001b[0m: OpenCV(4.1.2) /io/opencv/modules/imgproc/src/color.cpp:182: error: (-215:Assertion failed) !_src.empty() in function 'cvtColor'\n"
          ]
        }
      ]
    },
    {
      "cell_type": "markdown",
      "metadata": {
        "id": "cr9KxKT2Twy5"
      },
      "source": [
        "Importing required library"
      ]
    },
    {
      "cell_type": "code",
      "metadata": {
        "id": "lkwZ2VpjTxZX"
      },
      "source": [
        "import cv2"
      ],
      "execution_count": null,
      "outputs": []
    },
    {
      "cell_type": "markdown",
      "metadata": {
        "id": "pWsTvVLGTz_W"
      },
      "source": [
        "Loading the classifier for frontal face and eye"
      ]
    },
    {
      "cell_type": "code",
      "metadata": {
        "id": "YaVQsj8tT0W6"
      },
      "source": [
        "face_cascade = cv2.CascadeClassifier('/content/drive/MyDrive/Code/CV Week/Week 2 Day 2/haarcascade_frontalface_default.xml')\n",
        "eye_cascade = cv2.CascadeClassifier('/content/drive/MyDrive/Code/CV Week/Week 2 Day 2/haarcascade_eye_tree_eyeglasses.xml')"
      ],
      "execution_count": 7,
      "outputs": []
    },
    {
      "cell_type": "markdown",
      "metadata": {
        "id": "NCWsv3exT2vU"
      },
      "source": [
        "Using cv2.VideoCapture() to get a video capture object for the camera."
      ]
    },
    {
      "cell_type": "code",
      "metadata": {
        "id": "gkwGM7XST37-"
      },
      "source": [
        "cap = cv2.VideoCapture(0)"
      ],
      "execution_count": 8,
      "outputs": []
    },
    {
      "cell_type": "markdown",
      "metadata": {
        "id": "SYMpnmF6T6fx"
      },
      "source": [
        "We can detect faces in videos.Videos are basically made up of frames, which are still images. So we perform the face detection for each frame in a video.\n",
        "We use an infinite loop to loop through each frame in the video. We use cap.read() to read each frame. The first value returned is a flag that indicates if the frame was read correctly or not. We don’t need it. The second value returned is the still frame on which we will be performing the detection.\n",
        "Now for each frame, we have to classify the face so it is inside while loop. We first read the frame, then convert to a grayscale of each frame and then detects faces of different sizes in the input image."
      ]
    },
    {
      "cell_type": "code",
      "metadata": {
        "id": "TLRQAaRQT5Ua",
        "colab": {
          "base_uri": "https://localhost:8080/",
          "height": 215
        },
        "outputId": "e1dcb565-102b-4f94-d0ad-fd4e3d42d067"
      },
      "source": [
        "while True:\n",
        "    success, img = cap.read()\n",
        "    gray = cv2.cvtColor(img, cv2.COLOR_BGR2GRAY)\n",
        "    faces = face_cascade.detectMultiScale(gray, 1.1, 4)"
      ],
      "execution_count": 9,
      "outputs": [
        {
          "output_type": "error",
          "ename": "error",
          "evalue": "ignored",
          "traceback": [
            "\u001b[0;31m---------------------------------------------------------------------------\u001b[0m",
            "\u001b[0;31merror\u001b[0m                                     Traceback (most recent call last)",
            "\u001b[0;32m<ipython-input-9-ded74e8f66a2>\u001b[0m in \u001b[0;36m<module>\u001b[0;34m()\u001b[0m\n\u001b[1;32m      1\u001b[0m \u001b[0;32mwhile\u001b[0m \u001b[0;32mTrue\u001b[0m\u001b[0;34m:\u001b[0m\u001b[0;34m\u001b[0m\u001b[0;34m\u001b[0m\u001b[0m\n\u001b[1;32m      2\u001b[0m     \u001b[0msuccess\u001b[0m\u001b[0;34m,\u001b[0m \u001b[0mimg\u001b[0m \u001b[0;34m=\u001b[0m \u001b[0mcap\u001b[0m\u001b[0;34m.\u001b[0m\u001b[0mread\u001b[0m\u001b[0;34m(\u001b[0m\u001b[0;34m)\u001b[0m\u001b[0;34m\u001b[0m\u001b[0;34m\u001b[0m\u001b[0m\n\u001b[0;32m----> 3\u001b[0;31m     \u001b[0mgray\u001b[0m \u001b[0;34m=\u001b[0m \u001b[0mcv2\u001b[0m\u001b[0;34m.\u001b[0m\u001b[0mcvtColor\u001b[0m\u001b[0;34m(\u001b[0m\u001b[0mimg\u001b[0m\u001b[0;34m,\u001b[0m \u001b[0mcv2\u001b[0m\u001b[0;34m.\u001b[0m\u001b[0mCOLOR_BGR2GRAY\u001b[0m\u001b[0;34m)\u001b[0m\u001b[0;34m\u001b[0m\u001b[0;34m\u001b[0m\u001b[0m\n\u001b[0m\u001b[1;32m      4\u001b[0m     \u001b[0mfaces\u001b[0m \u001b[0;34m=\u001b[0m \u001b[0mface_cascade\u001b[0m\u001b[0;34m.\u001b[0m\u001b[0mdetectMultiScale\u001b[0m\u001b[0;34m(\u001b[0m\u001b[0mgray\u001b[0m\u001b[0;34m,\u001b[0m \u001b[0;36m1.1\u001b[0m\u001b[0;34m,\u001b[0m \u001b[0;36m4\u001b[0m\u001b[0;34m)\u001b[0m\u001b[0;34m\u001b[0m\u001b[0;34m\u001b[0m\u001b[0m\n",
            "\u001b[0;31merror\u001b[0m: OpenCV(4.1.2) /io/opencv/modules/imgproc/src/color.cpp:182: error: (-215:Assertion failed) !_src.empty() in function 'cvtColor'\n"
          ]
        }
      ]
    },
    {
      "cell_type": "markdown",
      "metadata": {
        "id": "JBpSdYtqT9Ow"
      },
      "source": [
        "\n",
        "Here, we're finding faces, their sizes, drawing rectangles, and noting the ROI"
      ]
    },
    {
      "cell_type": "code",
      "metadata": {
        "id": "xoA5C9pPT-j1"
      },
      "source": [
        "for (x, y , w ,h) in faces:\n",
        "        cv2.rectangle(img, (x,y), (x+w, y+h), (255, 0 , 0), 3)\n",
        "        roi_gray = gray[y:y+h, x:x+w]\n",
        "        roi_color = img[y:y+h, x:x+w]"
      ],
      "execution_count": null,
      "outputs": []
    },
    {
      "cell_type": "markdown",
      "metadata": {
        "id": "4-ZbqoQHT_ro"
      },
      "source": [
        "Detecting eyes and making rectangles around eyes"
      ]
    },
    {
      "cell_type": "code",
      "metadata": {
        "id": "jYvsn1rpUA5I"
      },
      "source": [
        "eyes = eye_cascade.detectMultiScale(roi_gray)\n",
        "for (ex, ey ,ew, eh) in eyes:\n",
        "    cv2.rectangle(roi_color, (ex,ey), (ex+ew, ey+eh), (0, 0, 255), 5)"
      ],
      "execution_count": null,
      "outputs": []
    },
    {
      "cell_type": "markdown",
      "metadata": {
        "id": "ryw4TetUUB78"
      },
      "source": [
        "Displaying the result"
      ]
    },
    {
      "cell_type": "code",
      "metadata": {
        "id": "2BZe3EIRUDEw"
      },
      "source": [
        "cv2.imshow('img', img)"
      ],
      "execution_count": null,
      "outputs": []
    },
    {
      "cell_type": "markdown",
      "metadata": {
        "id": "44PzqxW_UEOC"
      },
      "source": [
        "\n",
        "cv2.waitKey() is a required building block for OpenCV video processing. waitKey is a method which displays the frame for specified milliseconds. The ‘0xFF == ord(‘q’)’ inside the ‘if’ statement is a special syntax to provide the ‘while’ loop break, by a keyboard key pressing event.¶\n",
        "After wait of 1ms if the user press q on the keyboard, it will come out of the loop"
      ]
    },
    {
      "cell_type": "code",
      "metadata": {
        "id": "EVDVGPlKUFSx"
      },
      "source": [
        "if cv2.waitKey(1) & 0xFF == ord('q'):\n",
        "    break"
      ],
      "execution_count": null,
      "outputs": []
    },
    {
      "cell_type": "markdown",
      "metadata": {
        "id": "l-Fzrg_fUGPW"
      },
      "source": [
        "\n",
        "cap.release() is a method to close video files or the capturing device which was created by the imshow method."
      ]
    },
    {
      "cell_type": "code",
      "metadata": {
        "id": "wALyKIO6UHME"
      },
      "source": [
        "cap.release()"
      ],
      "execution_count": null,
      "outputs": []
    },
    {
      "cell_type": "markdown",
      "metadata": {
        "id": "Vx0JGkyTUIIu"
      },
      "source": [
        "# Thank You"
      ]
    }
  ]
}