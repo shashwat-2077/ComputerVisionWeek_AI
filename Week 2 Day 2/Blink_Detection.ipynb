{
  "nbformat": 4,
  "nbformat_minor": 0,
  "metadata": {
    "colab": {
      "name": "Blink Detection.ipynb",
      "provenance": [],
      "authorship_tag": "ABX9TyPqeCi+OouxY2GekhCWU8mw",
      "include_colab_link": true
    },
    "kernelspec": {
      "name": "python3",
      "display_name": "Python 3"
    },
    "language_info": {
      "name": "python"
    }
  },
  "cells": [
    {
      "cell_type": "markdown",
      "metadata": {
        "id": "view-in-github",
        "colab_type": "text"
      },
      "source": [
        "<a href=\"https://colab.research.google.com/github/shashwat-2077/ComputerVisionWeek_AI/blob/main/Blink_Detection.ipynb\" target=\"_parent\"><img src=\"https://colab.research.google.com/assets/colab-badge.svg\" alt=\"Open In Colab\"/></a>"
      ]
    },
    {
      "cell_type": "code",
      "metadata": {
        "colab": {
          "base_uri": "https://localhost:8080/"
        },
        "id": "Y2uOlfGG5XDW",
        "outputId": "26b079f8-afd2-4c17-e9d3-df62836eb771"
      },
      "source": [
        "from google.colab import drive\n",
        "drive.mount('/content/drive')"
      ],
      "execution_count": 2,
      "outputs": [
        {
          "output_type": "stream",
          "text": [
            "Drive already mounted at /content/drive; to attempt to forcibly remount, call drive.mount(\"/content/drive\", force_remount=True).\n"
          ],
          "name": "stdout"
        }
      ]
    },
    {
      "cell_type": "code",
      "metadata": {
        "id": "v-C3eG8CTZhL",
        "colab": {
          "base_uri": "https://localhost:8080/",
          "height": 368
        },
        "outputId": "a51dfa80-66db-474a-dbd0-3a45bc26a1c9"
      },
      "source": [
        "import numpy\n",
        "from pygame import mixer\n",
        "import time\n",
        "import cv2\n",
        "\n",
        "\n",
        "def alert():\n",
        "   mixer.init()\n",
        "   alert=mixer.Sound('/content/drive/MyDrive/Code/CV Week/Week 2 Day 2/Week2-Day2_assets_beep-07.wav')\n",
        "   alert.play()\n",
        "   time.sleep(0.1)\n",
        "   alert.play()   \n",
        "   \n",
        "capture =cv2.VideoCapture(0)\n",
        "face_cascade = cv2.CascadeClassifier('/content/drive/MyDrive/Code/CV Week/Week 2 Day 2/haarcascade_frontalface_default.xml')\n",
        "eye_cascade = cv2.CascadeClassifier('/content/drive/MyDrive/Code/CV Week/Week 2 Day 2/haarcascade_eye_tree_eyeglasses.xml')\n",
        "blink_cascade = cv2.CascadeClassifier('/content/drive/MyDrive/Code/CV Week/Week 2 Day 2/CustomBlinkCascade.xml')\n",
        "\n",
        "while True:\n",
        "      ret, frame = capture.read()\n",
        "      gray = cv2.cvtColor(frame,cv2.COLOR_BGR2GRAY)\n",
        "      faces = face_cascade.detectMultiScale(gray)\n",
        "\n",
        "      for (x,y,w,h) in faces:\n",
        "         font = cv2.FONT_HERSHEY_COMPLEX\n",
        "         cv2.putText(frame,'Face',(x+w,y+h),font,1,(250,250,250),2,cv2.LINE_AA)\n",
        "         cv2.rectangle(frame,(x,y),(x+w,y+h),(255,0,0),2)\n",
        "         roi_gray = gray[y:y+h, x:x+w]\n",
        "         roi_color = frame[y:y+h, x:x+w]\n",
        "\n",
        "         eyes = eye_cascade.detectMultiScale(roi_gray)\n",
        "         for(ex,ey,ew,eh) in eyes:\n",
        "            cv2.rectangle(roi_color,(ex,ey),(ex+ew,ey+eh),(0,255,0),2)\n",
        "\n",
        "         blink = blink_cascade.detectMultiScale(roi_gray)\n",
        "         for(eyx,eyy,eyw,eyh) in blink:\n",
        "            cv2.rectangle(roi_color,(eyx,eyy),(eyx+eyw,eyy+eyh),(255,255,0),2)\n",
        "            alert()\n",
        "      cv2.imshow('frame',frame)\n",
        "      if cv2.waitKey(1) & 0xFF ==ord('q'):\n",
        "          break\n",
        "        \n",
        "  \n",
        "capture.release()\n",
        "cv2.destroyAllWindows()"
      ],
      "execution_count": 3,
      "outputs": [
        {
          "output_type": "error",
          "ename": "ModuleNotFoundError",
          "evalue": "ignored",
          "traceback": [
            "\u001b[0;31m---------------------------------------------------------------------------\u001b[0m",
            "\u001b[0;31mModuleNotFoundError\u001b[0m                       Traceback (most recent call last)",
            "\u001b[0;32m<ipython-input-3-260b0c89d67e>\u001b[0m in \u001b[0;36m<module>\u001b[0;34m()\u001b[0m\n\u001b[1;32m      1\u001b[0m \u001b[0;32mimport\u001b[0m \u001b[0mnumpy\u001b[0m\u001b[0;34m\u001b[0m\u001b[0;34m\u001b[0m\u001b[0m\n\u001b[0;32m----> 2\u001b[0;31m \u001b[0;32mfrom\u001b[0m \u001b[0mpygame\u001b[0m \u001b[0;32mimport\u001b[0m \u001b[0mmixer\u001b[0m\u001b[0;34m\u001b[0m\u001b[0;34m\u001b[0m\u001b[0m\n\u001b[0m\u001b[1;32m      3\u001b[0m \u001b[0;32mimport\u001b[0m \u001b[0mtime\u001b[0m\u001b[0;34m\u001b[0m\u001b[0;34m\u001b[0m\u001b[0m\n\u001b[1;32m      4\u001b[0m \u001b[0;32mimport\u001b[0m \u001b[0mcv2\u001b[0m\u001b[0;34m\u001b[0m\u001b[0;34m\u001b[0m\u001b[0m\n\u001b[1;32m      5\u001b[0m \u001b[0;34m\u001b[0m\u001b[0m\n",
            "\u001b[0;31mModuleNotFoundError\u001b[0m: No module named 'pygame'",
            "",
            "\u001b[0;31m---------------------------------------------------------------------------\u001b[0;32m\nNOTE: If your import is failing due to a missing package, you can\nmanually install dependencies using either !pip or !apt.\n\nTo view examples of installing some common dependencies, click the\n\"Open Examples\" button below.\n\u001b[0;31m---------------------------------------------------------------------------\u001b[0m\n"
          ]
        }
      ]
    },
    {
      "cell_type": "markdown",
      "metadata": {
        "id": "SokAeDGWTfS-"
      },
      "source": [
        "# Thank You"
      ]
    }
  ]
}