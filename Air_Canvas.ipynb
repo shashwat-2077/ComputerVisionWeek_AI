{
  "nbformat": 4,
  "nbformat_minor": 0,
  "metadata": {
    "colab": {
      "name": "Air Canvas.ipynb",
      "provenance": [],
      "authorship_tag": "ABX9TyMVpVZD589PBSYi3SzLe5j9",
      "include_colab_link": true
    },
    "kernelspec": {
      "name": "python3",
      "display_name": "Python 3"
    },
    "language_info": {
      "name": "python"
    }
  },
  "cells": [
    {
      "cell_type": "markdown",
      "metadata": {
        "id": "view-in-github",
        "colab_type": "text"
      },
      "source": [
        "<a href=\"https://colab.research.google.com/github/shashwat-2077/ComputerVisionWeek_AI/blob/main/Air_Canvas.ipynb\" target=\"_parent\"><img src=\"https://colab.research.google.com/assets/colab-badge.svg\" alt=\"Open In Colab\"/></a>"
      ]
    },
    {
      "cell_type": "markdown",
      "metadata": {
        "id": "rsp23PQFuDrO"
      },
      "source": [
        "# Air Canvas"
      ]
    },
    {
      "cell_type": "markdown",
      "metadata": {
        "id": "ihyHzNXCuCRQ"
      },
      "source": [
        "\n",
        "## Objective of the Project\n",
        "\n",
        "The basic goal of Air Canvas is to map the coordinates of the user’s pointer finger to the screen [using Object Detection], where colored circles are drawn and connected to simulate a crude brush stroke."
      ]
    },
    {
      "cell_type": "markdown",
      "metadata": {
        "id": "70uocKH3uN10"
      },
      "source": [
        "\n",
        "# Proposed Algorithmic Approach for the Project\n",
        "\n",
        " - Step 1: Start reading the frames and convert the captured frames to HSV color space (Easy for color detection).\n",
        " \n",
        " - Step 2: Prepare the canvas frame and put the respective ink buttons on it.\n",
        "\n",
        " - Step 3: Adjust the track bar values for finding the mask of the colored marker.\n",
        "\n",
        " - Step 4: Preprocess the mask with morphological operations (Eroding and dilation).\n",
        "\n",
        " - Step 5: Detect the contours, find the center coordinates of the largest contour and keep storing them in the array for successive frames (Arrays for drawing points on canvas).\n",
        "\n",
        " - Step 6: Finally draw the points stored in an array on the frames and canvas."
      ]
    },
    {
      "cell_type": "code",
      "metadata": {
        "colab": {
          "base_uri": "https://localhost:8080/"
        },
        "id": "QNhgqp3It6Ga",
        "outputId": "29659b11-bb00-4e9a-e3ee-7c74cf4906ca"
      },
      "source": [
        "!pip3 install numpy"
      ],
      "execution_count": 1,
      "outputs": [
        {
          "output_type": "stream",
          "text": [
            "Requirement already satisfied: numpy in /usr/local/lib/python3.7/dist-packages (1.19.5)\n"
          ],
          "name": "stdout"
        }
      ]
    },
    {
      "cell_type": "code",
      "metadata": {
        "colab": {
          "base_uri": "https://localhost:8080/"
        },
        "id": "eRDfXRKBuYH0",
        "outputId": "038a647d-8a5d-4fe3-bfea-15a560e3a17f"
      },
      "source": [
        "!pip3 install opencv-python"
      ],
      "execution_count": 2,
      "outputs": [
        {
          "output_type": "stream",
          "text": [
            "Requirement already satisfied: opencv-python in /usr/local/lib/python3.7/dist-packages (4.1.2.30)\n",
            "Requirement already satisfied: numpy>=1.14.5 in /usr/local/lib/python3.7/dist-packages (from opencv-python) (1.19.5)\n"
          ],
          "name": "stdout"
        }
      ]
    },
    {
      "cell_type": "code",
      "metadata": {
        "colab": {
          "base_uri": "https://localhost:8080/"
        },
        "id": "Fj4hgUQvuYFu",
        "outputId": "75118b1e-b155-4809-aa8c-b8b6df6f83c4"
      },
      "source": [
        "!pip3 install collection"
      ],
      "execution_count": 3,
      "outputs": [
        {
          "output_type": "stream",
          "text": [
            "Requirement already satisfied: collection in /usr/local/lib/python3.7/dist-packages (0.1.6)\n"
          ],
          "name": "stdout"
        }
      ]
    },
    {
      "cell_type": "code",
      "metadata": {
        "id": "FpfwTJX9uYC3"
      },
      "source": [
        "#Importing necessary libraries\n",
        "\n",
        "import numpy as np\n",
        "import cv2\n",
        "from collections import deque"
      ],
      "execution_count": 4,
      "outputs": []
    },
    {
      "cell_type": "code",
      "metadata": {
        "id": "hg7BKLe4uYAI"
      },
      "source": [
        "#Default called trackbar function\n",
        "\n",
        "def setValues(x):\n",
        "    print(\"\")"
      ],
      "execution_count": 5,
      "outputs": []
    },
    {
      "cell_type": "markdown",
      "metadata": {
        "id": "bAOHWueKuhBH"
      },
      "source": [
        "# Creating the trackbars needed for adjusting the marker colour"
      ]
    },
    {
      "cell_type": "code",
      "metadata": {
        "id": "sFWayYg-ujjb"
      },
      "source": [
        "\n",
        "#These trackbars will be used for setting the upper and lower ranges of the HSV required for particular colour\n",
        "\n",
        "cv2.namedWindow(\"Color detectors\")\n",
        "cv2.createTrackbar(\"Upper Hue\", \"Color detectors\", 153, 180, setValues)\n",
        "cv2.createTrackbar(\"Upper Saturation\", \"Color detectors\", 255, 255, setValues)\n",
        "cv2.createTrackbar(\"Upper Value\", \"Color detectors\", 255, 255, setValues)\n",
        "cv2.createTrackbar(\"Lower Hue\", \"Color detectors\", 64, 180, setValues)\n",
        "cv2.createTrackbar(\"Lower Saturation\", \"Color detectors\", 72, 255, setValues)\n",
        "cv2.createTrackbar(\"Lower Value\", \"Color detectors\", 49, 255, setValues)"
      ],
      "execution_count": null,
      "outputs": []
    },
    {
      "cell_type": "markdown",
      "metadata": {
        "id": "JZ3qr6_Yul4h"
      },
      "source": [
        "# Code for the Algorithmic Approach"
      ]
    },
    {
      "cell_type": "code",
      "metadata": {
        "id": "o3mQZz4cuX8Q"
      },
      "source": [
        "#Giving different arrays to handle colour points of different colour \n",
        "#These arrays will hold the points of a particular colour in the array which will further be used to draw on canvas\n",
        "bpoints = [deque(maxlen = 1024)]\n",
        "gpoints = [deque(maxlen = 1024)]\n",
        "rpoints = [deque(maxlen = 1024)]\n",
        "ypoints = [deque(maxlen = 1024)]\n",
        "\n",
        "#These indexes will be used to mark position of pointers in colour array\n",
        "blue_index = 0\n",
        "green_index = 0\n",
        "red_index = 0\n",
        "yellow_index = 0\n",
        "\n",
        "#The kernel to be used for dilation purpose\n",
        "kernel = np.ones((5, 5), np.uint8)\n",
        "\n",
        "#The colours which will be used as ink for the drawing purpose\n",
        "colors = [(255, 0, 0), (0, 255, 0), (0, 0, 255), (0, 255, 255)]\n",
        "colorIndex = 0\n",
        "\n",
        "#Here is code for Canvas setup\n",
        "paintWindow = np.zeros((471, 636, 3)) + 255\n",
        "cv2.namedWindow('Paint', cv2.WINDOW_AUTOSIZE)\n",
        "\n",
        "#Loading the default webcam of PC.\n",
        "cap = cv2.VideoCapture(0)\n",
        "\n",
        "#Keep looping\n",
        "while True:\n",
        "    #Reading the frame from the camera\n",
        "    ret, frame = cap.read()\n",
        "    \n",
        "    #Flipping the frame to see same side of yours\n",
        "    frame = cv2.flip(frame, 1)\n",
        "    hsv = cv2.cvtColor(frame, cv2.COLOR_BGR2HSV)\n",
        "\n",
        "    # Getting the updated positions of the trackbar and setting the HSV values\n",
        "    u_hue = cv2.getTrackbarPos(\"Upper Hue\", \"Color detectors\")\n",
        "    u_saturation = cv2.getTrackbarPos(\"Upper Saturation\", \"Color detectors\")\n",
        "    u_value = cv2.getTrackbarPos(\"Upper Value\", \"Color detectors\")\n",
        "    l_hue = cv2.getTrackbarPos(\"Lower Hue\", \"Color detectors\")\n",
        "    l_saturation = cv2.getTrackbarPos(\"Lower Saturation\", \"Color detectors\")\n",
        "    l_value = cv2.getTrackbarPos(\"Lower Value\", \"Color detectors\")\n",
        "    Upper_hsv = np.array([u_hue, u_saturation, u_value])\n",
        "    Lower_hsv = np.array([l_hue, l_saturation, l_value])\n",
        "\n",
        "\n",
        "    #Adding the colour buttons to the live frame for colour access\n",
        "    frame = cv2.rectangle(frame, (40, 1), (140, 65), (122, 122, 122), -1)\n",
        "    frame = cv2.rectangle(frame, (160, 1), (255, 65), colors[0], -1)\n",
        "    frame = cv2.rectangle(frame, (275, 1), (370, 65), colors[1], -1)\n",
        "    frame = cv2.rectangle(frame, (390, 1), (485, 65), colors[2], -1)\n",
        "    frame = cv2.rectangle(frame, (505, 1), (600, 65), colors[3], -1)\n",
        "\n",
        "    cv2.putText(frame, \"CLEAR ALL\", (49, 33), cv2.FONT_HERSHEY_SIMPLEX, 0.5, (255, 255, 255), 2, cv2.LINE_AA)\n",
        "\n",
        "     cv2.putText(frame, \"BLUE\", (185, 33), cv2.FONT_HERSHEY_SIMPLEX, 0.5, (255, 255, 255), 2, cv2.LINE_AA)\n",
        "    \n",
        "    cv2.putText(frame, \"GREEN\", (298, 33), cv2.FONT_HERSHEY_SIMPLEX, 0.5, (255, 255, 255), 2, cv2.LINE_AA)\n",
        "    \n",
        "    cv2.putText(frame, \"RED\", (420, 33), cv2.FONT_HERSHEY_SIMPLEX, 0.5, \t(255, 255, 255), 2, cv2.LINE_AA)\n",
        "    \n",
        "    cv2.putText(frame, \"YELLOW\", (520, 33), \tcv2.FONT_HERSHEY_SIMPLEX, 0.5, (150, 150, 150), 2, cv2.LINE_AA)\n",
        "    \n",
        "    #Identifying the pointer by making its mask\n",
        "    Mask = cv2.inRange(hsv, Lower_hsv, Upper_hsv)\n",
        "    Mask = cv2.erode(Mask, kernel, iterations = 1)\n",
        "    Mask = cv2.morphologyEx(Mask, cv2.MORPH_OPEN, kernel)\n",
        "    Mask = cv2.dilate(Mask, kernel, iterations = 1)\n",
        "    \n",
        "    #Find contours for the pointer after idetifying it\n",
        "    cnts, _ = cv2.findContours(Mask.copy(), cv2.RETR_EXTERNAL, cv2.CHAIN_APPROX_SIMPLE)\n",
        "    center = None\n",
        "    \n",
        "    #If the contours are formed\n",
        "    if len(cnts) > 0:\n",
        "        \n",
        "        #Sorting the contours to find biggest\n",
        "        cnt = sorted(cnts, key = cv2.contourArea, reverse = True)[0]\n",
        "        \n",
        "        #Get the radius of the enclosing circle around the found contour\n",
        "        ((x, y), radius) = cv2.minEnclosingCircle(cnt)\n",
        "        \n",
        "        #Draw the circle around the contour\n",
        "        cv2.circle(frame, (int(x), int(y)), int(radius), (0, 255, 255), 2)\n",
        "            \n",
        "        #Calculating the center of the detected contour\n",
        "        M = cv2.moments(cnt)\n",
        "        center = (int(M['m10'] / M['m00']), int(M['m01'] / M['m00']))\n",
        "        \n",
        "        #Now checking if the user wants to click on any button above the screen\n",
        "        if center[1] <= 65:\n",
        "            #Clear Button\n",
        "            if 40 <= center[0] <= 140:\n",
        "                bpoints = [deque(maxlen = 512)]\n",
        "                gpoints = [deque(maxlen = 512)]\n",
        "                rpoints = [deque(maxlen = 512)]\n",
        "                ypoints = [deque(maxlen = 512)]\n",
        "\n",
        "                blue_index = 0\n",
        "                green_index = 0\n",
        "                red_index = 0\n",
        "                yellow_index = 0\n",
        "\n",
        "                paintWindow[67:, :, :] = 255\n",
        "            elif 160 <= center[0] <= 255:\n",
        "                    colorIndex = 0 #Blue\n",
        "            elif 275 <= center[0] <= 370:\n",
        "                    colorIndex = 1 #Green\n",
        "            elif 390 <= center[0] <= 485:\n",
        "                    colorIndex = 2 #Red\n",
        "            elif 505 <= center[0] <= 600:\n",
        "                    colorIndex = 3 #Yellow\n",
        "        else :\n",
        "            if colorIndex == 0:\n",
        "                bpoints[blue_index].appendleft(center)\n",
        "            elif colorIndex == 1:\n",
        "                gpoints[green_index].appendleft(center)\n",
        "            elif colorIndex == 2:\n",
        "                rpoints[red_index].appendleft(center)\n",
        "            elif colorIndex == 3:\n",
        "                ypoints[yellow_index].appendleft(center)\n",
        "    #Append the next deques when nothing is detected to avois messing up\n",
        "    else:\n",
        "        bpoints.append(deque(maxlen = 512))\n",
        "        blue_index += 1\n",
        "        gpoints.append(deque(maxlen = 512))\n",
        "        green_index += 1\n",
        "        rpoints.append(deque(maxlen = 512))\n",
        "        red_index += 1\n",
        "        points.append(deque(maxlen = 512))\n",
        "        yellow_index += 1\n",
        "        \n",
        "    #Draw lines of all the colors on the canvas and frame\n",
        "    points = [bpoints, gpoints, rpoints, ypoints]\n",
        "    for i in range(len(points)):\n",
        "        \n",
        "        for j in range(len(points[i])):\n",
        "            \n",
        "            for k in range(1, len(points[i][j])):\n",
        "                \n",
        "                if points[i][j][k - 1] is None or points[i][j][k] is None:\n",
        "                    continue\n",
        "                    \n",
        "                cv2.line(frame, points[i][j][k - 1], points[i][j][k], colors[i], 2)\n",
        "                cv2.line(paintWindow, points[i][j][k - 1], points[i][j][k], colors[i], 2)\n",
        "    \n",
        "    #Show all the windows\n",
        "    cv2.imshow(\"Tracking\", frame)\n",
        "    cv2.imshow(\"Paint\", paintWindow)\n",
        "    cv2.imshow(\"mask\", Mask)\n",
        "    \n",
        "    #If the 'q' key is pressed then stop the application\n",
        "    if cv2.waitKey(1) & 0xFF == ord(\"q\"):\n",
        "        break\n",
        "\n",
        "#Release the camera and all resources\n",
        "cap.release()\n",
        "cv2.destroyAllWindows()\n",
        "\n",
        "\n"
      ],
      "execution_count": null,
      "outputs": []
    },
    {
      "cell_type": "markdown",
      "metadata": {
        "id": "hkijeovRuBUq"
      },
      "source": [
        "# Thank You"
      ]
    }
  ]
}